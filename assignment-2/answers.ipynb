{
 "cells": [
  {
   "cell_type": "markdown",
   "metadata": {},
   "source": [
    "# Assignment 2: Fundamentals of Python (30 pts)"
   ]
  },
  {
   "cell_type": "markdown",
   "metadata": {},
   "source": [
    "## Question 1: Markdown  (5 pts)\n",
    "\n",
    "Create a markdown cell below. Do the following tasks: \n",
    "\n",
    "- Display an image. (1 pt)\n",
    "- Write a caption for the image in italics. (1 pt)\n",
    "- Link a wikipedia page. (1 pt)\n",
    "- Write a bullet point list summarizing the page (don't be thorough, just want to see you make bullet points.) (1 pt)\n",
    "- Write an equation on its own line that includes a fraction and an exponent (e.g. 2 squared).\n"
   ]
  },
  {
   "cell_type": "markdown",
   "metadata": {},
   "source": [
    "![\"Quebec City Hotel\"](QuebecCity.png)\n",
    "\n",
    "*This is a picture from my February break. It is a view of the Fairmont Le Chateau Fontenac and the river in Quebec City, Canada.*\n",
    "\n",
    "[Chateau Frontenac Wikipedia Page](https://en.wikipedia.org/wiki/Ch%C3%A2teau_Frontenac)\n",
    "\n",
    "- This is the wikipedia page for the Cheteau Frontenac.\n",
    "- It has sections on the location, design, and history of the hotel.\n",
    "$$({1 \\over 2}) ^ 2$$"
   ]
  },
  {
   "cell_type": "markdown",
   "metadata": {},
   "source": [
    "## Question 2: Data types and variables (5 pt)\n",
    "\n",
    "\n",
    "- Create 3 variables with the values of `9`, `9.9`, and `\"9\"` (1 pt).\n",
    "- Print out the data types of each variable (1 pt).\n",
    "- Convert the 3 variable types to the same data type and then add them together to get the following values:\n",
    "  - `27` (1 pt)\n",
    "  - `27.9` (1 pt)\n",
    "  - `999.9` (1 pt)\n"
   ]
  },
  {
   "cell_type": "code",
   "execution_count": 3,
   "metadata": {},
   "outputs": [
    {
     "name": "stdout",
     "output_type": "stream",
     "text": [
      "<class 'int'>\n",
      "<class 'float'>\n",
      "<class 'str'>\n",
      "27\n",
      "27.9\n",
      "999.9\n"
     ]
    }
   ],
   "source": [
    "# your answer here:\n",
    "x = 9\n",
    "y = 9.9\n",
    "z = \"9\"\n",
    "print (type(x))\n",
    "print (type(y))\n",
    "print (type(z))\n",
    "integer_combo = int(x) + int(y) + int(z)\n",
    "float_combo = float(x) + float(y) + float(z)\n",
    "string_combo = str(x) + str(z) + str(y)\n"
   ]
  },
  {
   "cell_type": "markdown",
   "metadata": {},
   "source": [
    "## Question 3: Data structures (5 pt)\n",
    "\n",
    "- Create a dictionary with 3 keys called `'a'`, `'b'`, and `'c'`. The value for each key should be a blank list. (1 pt)\n",
    "- Append the list associated with key `a` with a blank set. (1 pt)\n",
    "- Append the list associated with key `b` with any 4 numbers. (1 pt)\n",
    "- Change the third item in the list associated with key `b` to be `1000`. (1 pt)\n",
    "- Print out the dictionary (1 pt)"
   ]
  },
  {
   "cell_type": "code",
   "execution_count": 16,
   "metadata": {},
   "outputs": [
    {
     "name": "stdout",
     "output_type": "stream",
     "text": [
      "{'a': [set()], 'b': [0, 1, 1000, 3], 'c': []}\n"
     ]
    }
   ],
   "source": [
    "# your code here:\n",
    "d1 = {\"a\":[], \"b\":[], \"c\":[]}\n",
    "d1[\"a\"].append(set())\n",
    "for i in range(4):\n",
    "    d1[\"b\"].append(i)\n",
    "d1[\"b\"][2] = 1000\n",
    "print (d1)"
   ]
  },
  {
   "cell_type": "markdown",
   "metadata": {},
   "source": [
    "## Question 4: Transferring to different structure (5 pts)\n",
    "\n",
    "Some data was collected by 5 different researchers on deer population sizes. Below, this data was recorded with accompanying temperature data and dates in three lists. In each list, one researcher is associated with the same index.\n",
    "\n",
    "0. Haley McCann\n",
    "1. Siena Welch\n",
    "2. Jaylin Mercado\n",
    "3. Ismael Hayden\n",
    "4. Nina Bright\n",
    "\n",
    "Use the data across the three lists to create a dictionary storing each researcher's name and data as key:value pairs. Carefully consider how to best store the data as each value (4 pt).\n",
    "\n",
    "Retrieve the data from the lists using indexing; **do NOT** manually type the data into the dictionary. (1 pt)"
   ]
  },
  {
   "cell_type": "code",
   "execution_count": 17,
   "metadata": {},
   "outputs": [
    {
     "name": "stdout",
     "output_type": "stream",
     "text": [
      "{'Haley McCann': [29.75, 442, '5/25/2022'], 'Siena Welch': [12.63, 336, '3/18/2022'], 'Jaylin Mercado': [31.58, 505, '6/28/2022'], 'Ismael Hayden': [7.16, 913, '11/11/2022'], 'Nina Bright': [32.51, 933, '7/6/2023']}\n"
     ]
    }
   ],
   "source": [
    "# don't modify the lists\n",
    "\n",
    "temperatures = [29.75, 12.63, 31.58, 7.16, 32.51]\n",
    "\n",
    "populations = [442, 336, 505, 913, 933]\n",
    "\n",
    "dates = ['5/25/2022','3/18/2022','6/28/2022','11/11/2022','7/6/2023']\n",
    "\n",
    "# your code below:\n",
    "names = [\"Haley McCann\", \"Siena Welch\", \"Jaylin Mercado\", \"Ismael Hayden\", \"Nina Bright\"]\n",
    "d2 = dict()\n",
    "for i in range(len(dates)):\n",
    "    d2[names[i]] = [temperatures[i], populations[i], dates[i]]\n",
    "\n",
    "print(d2)"
   ]
  },
  {
   "cell_type": "markdown",
   "metadata": {},
   "source": [
    "## Question 5: Booleans\n",
    "What is the value of each of the following statements? Explain why for each statement. (1 pt each)"
   ]
  },
  {
   "cell_type": "code",
   "execution_count": 19,
   "metadata": {},
   "outputs": [
    {
     "name": "stdout",
     "output_type": "stream",
     "text": [
      "0\n"
     ]
    }
   ],
   "source": [
    "# 1\n",
    "True and False\n",
    "# This statement is False because the and operator only returns True if both statements are True.\n",
    "\n",
    "# 2\n",
    "not True or False\n",
    "# This statemnet is False. Since there are no parantheses, the operators go left to right. \n",
    "# First evaluate not True which is False and then the statement becomes False or False is False.\n",
    "\n",
    "# 3\n",
    "True or False or True\n",
    "# This statement is True. Again, read left to right. First evaluate True or False which is True. \n",
    "# Then the statement simplified to True or True which is True.\n",
    "\n",
    "# 4\n",
    "not (not True or not False)\n",
    "\n",
    "# This statement is False. We evaluate inside the parantheses first, evaluating the nots and then the or.\n",
    "# The statement with parantheses added to make the order clear is \"not((not True) or (not False))\". \n",
    "# The not next to the False is evaluated before the or because not is next to False.\n",
    "# not True is False and not False is True so the inside of the parantheses becomes False or True.\n",
    "# False or True is True. Finally, there is a not outside of the parantheses so the answer is False.\n",
    "\n",
    "# 5\n",
    "int( not(10 > 5 and 2 < 3) )\n",
    "# This evaluates to 0. Starting inside the parantheses, 10 > 5 is True, and 2 < 3 is also True. \n",
    "# True and True is True. Moving outside the innermost parantheses to the not, not True is False.  \n",
    "# int(False) becomes 0.\n",
    "\n"
   ]
  },
  {
   "cell_type": "markdown",
   "metadata": {},
   "source": [
    "### Answers:"
   ]
  },
  {
   "cell_type": "markdown",
   "metadata": {},
   "source": [
    "## Question 6: Conditionals (5 pt)\n",
    " \n",
    "The following converts Celsius (C) to Farhenheit (F):\n",
    "\n",
    "$$F = (C * \\frac{9}{5}) + 32 $$\n",
    "\n",
    "You can convert Celsius (C) to Kelvin with the following (K).\n",
    "\n",
    "$$K = C - 273.15$$\n",
    "\n",
    "The lowest possible value in Celsius is -273.13, also known as absolute zero.\n",
    "\n",
    "Create a variable called `cel` set to be some number. It represents temperature in degrees Celsius. (1 pt)\n",
    "\n",
    "Create another variable called `convert`. Make it have either the value `'far'` or `'kel'`. (1 pt)\n",
    "\n",
    "Write code that does the following:\n",
    "\n",
    "If `cel` is below absolute zero, print out an error. Otherwise, convert the value in `cel` to Farhenheit if `convert` is `'far'` and to Kelvin if `convert` is `'kel'`. In both cases, print out the converted value. If `convert` has any other value, print a warning message saying that `convert` is not `'kel'` or `'far'`. (3 pt)"
   ]
  },
  {
   "cell_type": "code",
   "execution_count": 22,
   "metadata": {},
   "outputs": [
    {
     "name": "stdout",
     "output_type": "stream",
     "text": [
      "273.15\n"
     ]
    }
   ],
   "source": [
    "# your code here:\n",
    "cel = 0\n",
    "convert = 'kel'\n",
    "if cel < -273.13:\n",
    "    print('out an error')\n",
    "else:\n",
    "    if convert == 'far':\n",
    "        print((cel*1.8) + 32)\n",
    "    elif convert == 'kel':\n",
    "        print(cel + 273.15)\n",
    "    else:\n",
    "        print('a warning message saying that convert is not kel or far')\n",
    "\n",
    "\n",
    "\n"
   ]
  }
 ],
 "metadata": {
  "kernelspec": {
   "display_name": "Python 3.9.12 ('base')",
   "language": "python",
   "name": "python3"
  },
  "language_info": {
   "codemirror_mode": {
    "name": "ipython",
    "version": 3
   },
   "file_extension": ".py",
   "mimetype": "text/x-python",
   "name": "python",
   "nbconvert_exporter": "python",
   "pygments_lexer": "ipython3",
   "version": "3.9.12"
  },
  "orig_nbformat": 4,
  "vscode": {
   "interpreter": {
    "hash": "b52b534d3e8b2df8a7f375ea8b488ed7c2e546a5d77230d70bd2c6badbd8c861"
   }
  }
 },
 "nbformat": 4,
 "nbformat_minor": 2
}
